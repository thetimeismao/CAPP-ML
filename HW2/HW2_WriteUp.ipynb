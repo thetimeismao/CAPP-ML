{
 "cells": [
  {
   "cell_type": "markdown",
   "metadata": {},
   "source": [
    "# Machine Learning HW 2\n",
    "## Andrew Mao"
   ]
  },
  {
   "cell_type": "markdown",
   "metadata": {},
   "source": [
    "Andrew Mao \n",
    "Machine Learning for Public Policy \n",
    "https://github.com/thetimeismao\n",
    "\n",
    "### 1. Policy Question\n",
    "I built a simplistic supervised learning pipeline in order to answer the question: \"Can we predict whether an individual will experience financial distress in the next two years based on several independent variables?\" The dependent variable (label) in the data is SeriousDlqin2yrs, a yes/no entry of whether an individual has or has not experienced financial distress in two years. Through a myriad of other independent variables (features), I aim to predict whether an individual will experience financial distress in two years time.\n",
    "### 2. Pipeline\n",
    "The Pipeline is set up as below:\n",
    "Read data\n",
    "Explore\n",
    "Pre-Process and Clean Data\n",
    "Generate Features/Predictors\n",
    "Build Machine Learning Classifier\n",
    "Evaluate Classifier\n",
    "### 3. Model\n",
    "We included a number of methods for our model to adopt, including Gradient Boosting, K-Nearest Neighbor, Decision Tree, and Logit. We used a Gradient Boosting Model.\n",
    "The selected features are: 'RevolvingUtilizationOfUnsecuredLines', 'DebtRatio_bucket_0', 'DebtRatio_bucket_1', 'DebtRatio_bucket_2', 'DebtRatio_bucket_3', 'DebtRatio_bucket_4', 'MonthlyIncome_bucket_0', 'MonthlyIncome_bucket_1', 'MonthlyIncome_bucket_2', 'MonthlyIncome_bucket_3', 'MonthlyIncome_bucket_4', 'age_bucket_0', 'age_bucket_1', 'age_bucket_2', 'age_bucket_3', 'age_bucket_4', 'NumberOfTimes90DaysLate'\n",
    "### 4. Evaluation\n",
    "I aimed to compute precision, recall, accuracy and f1-score with scikit learn. I also aimed to plot ROC. Ultimately, the accuracy resulted as 100% and is indicative of an unknown error, possibly in splitting test and training data or with the model fitting itself."
   ]
  }
 ],
 "metadata": {
  "kernelspec": {
   "display_name": "Python [default]",
   "language": "python",
   "name": "python3"
  },
  "language_info": {
   "codemirror_mode": {
    "name": "ipython",
    "version": 3
   },
   "file_extension": ".py",
   "mimetype": "text/x-python",
   "name": "python",
   "nbconvert_exporter": "python",
   "pygments_lexer": "ipython3",
   "version": "3.5.2"
  }
 },
 "nbformat": 4,
 "nbformat_minor": 2
}
