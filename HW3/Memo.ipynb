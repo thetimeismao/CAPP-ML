{
 "cells": [
  {
   "cell_type": "markdown",
   "metadata": {},
   "source": [
    "# Machine Learning for Public Policy - Homework 3\n",
    "## Andrew Mao\n"
   ]
  },
  {
   "cell_type": "markdown",
   "metadata": {},
   "source": [
    "# 1. Policy Question\n",
    "\n",
    "We want to know (i.e. predict) who will experience financial distress in the next two years. The outcome variable (label) in the data is SeriousDlqin2yrs. We improved our pipeline and tested an assortment of classifier parameters against proven metrics.\n",
    "\n",
    "Our central goal is to compare the performance of  different classifiers across all the metrics for the data set used in the last assignment. For example, I will try to answer questions such as \"Which classifier does better on which metrics? Which one runs faster? What would be your recommendation to someone who's working on the credit model?\""
   ]
  },
  {
   "cell_type": "markdown",
   "metadata": {},
   "source": [
    "# 2. Pipeline\n",
    "\n",
    "We built a pipeline as follows:\n",
    "\n",
    "1. Read data\n",
    "2. Explore\n",
    "3. Pre-process\n",
    "4. Create features\n",
    "5. Classify\n",
    "6. Evaluate\n",
    "\n",
    "In the next section, I describe the main observations from our pipeline."
   ]
  },
  {
   "cell_type": "markdown",
   "metadata": {},
   "source": [
    "### Explore\n",
    "With the functions in my explore section of the ML_Pipeline, I noticed a few things: \n",
    "-  'RevolvingUtilizationOfUnsecuredLines' has a large skew and high kurtosis. This means most observations are close to the average of the distribution, but there are many outliers very far on the right tail of the distribution.\n",
    "- 'NumberOfTime30-59DaysPastDueNotWorse', NumberOfTime60-89DaysPastDueNotWorse, and 'NumberOfTimes90DaysLate' are similar. They have a large skew and high kurtosis. This means that most observations are close to the average but have many outliers on the right tail.\n",
    "\n",
    "There is a very strong correlation (almost 1) between 'NumberOfTime30-59DaysPastDueNotWorse', 'NumberOfTime60-89DaysPastDueNotWorse', and 'NumberOfTimes90DaysLate'."
   ]
  },
  {
   "cell_type": "markdown",
   "metadata": {},
   "source": [
    "### Creating Features\n",
    "It seems like the 5 most important features among our classifiers is consistently:\n",
    "* **'RevolvingUtilizationOfUnsecuredLines'**\n",
    "* **'NumberOfTimes90DaysLate'**\n",
    "* **'MonthlyIncome'** \n",
    "* **'age'**\n",
    "* **'DebtRatio'** \n",
    "\n",
    "Only once, **'NumberOfTime30-59DaysPastDueNotWorse'** is also among the top five. It may be worth to consider it a main feature."
   ]
  },
  {
   "cell_type": "markdown",
   "metadata": {},
   "source": [
    "### Model\n",
    "\n",
    "After discretising a few features, we ended up with these main features:\n",
    "\n",
    "The selected features are: 'RevolvingUtilizationOfUnsecuredLines', \n",
    "                           'NumberOfTimes90DaysLate',\n",
    "                           'NumberOfTime30-59DaysPastDueNotWorse', 'MonthlyIncome_cat_1',\n",
    "                           'MonthlyIncome_cat_2', 'MonthlyIncome_cat_3',\n",
    "                           'MonthlyIncome_cat_4', 'MonthlyIncome_cat_5',\n",
    "                           'age_cat_1', 'age_cat_2', 'age_cat_3', 'age_cat_4', 'age_cat_5',\n",
    "                           'DebtRatio_cat_1', 'DebtRatio_cat_2', 'DebtRatio_cat_3',\n",
    "                           'DebtRatio_cat_4', 'DebtRatio_cat_5','DebtRatio_cat_6'."
   ]
  },
  {
   "cell_type": "markdown",
   "metadata": {},
   "source": [
    "### Evaluation\n",
    "\n",
    "#### Best\n",
    "I am ranking best dependent on AUC, precision, recall, and F1.\n",
    "1. AUC: Gradient Boosting\n",
    "2. Precision: SVM\n",
    "3. Recall: Gradient Boosting\n",
    "4. F1: RandomForest\n",
    "\n",
    "#### Speed\n",
    "Consistently, Linear SVM was the fastest model. However, regular SVM proved to be the slowest of all, so it may not be the best indicator. KNN is a consistent runner up.\n",
    "\n",
    "#### My recommendation\n",
    "In general, Gradient Boosting and Random Forests seems to come out on top. If we truly cared only about precision, SVM may be the best for this credit model. In general, I would recommend GB or RF for its versatility and performance, but it still always depends on the priorities of the metrics a researcher has in mind."
   ]
  }
 ],
 "metadata": {
  "kernelspec": {
   "display_name": "Python 3",
   "language": "python",
   "name": "python3"
  },
  "language_info": {
   "codemirror_mode": {
    "name": "ipython",
    "version": 3
   },
   "file_extension": ".py",
   "mimetype": "text/x-python",
   "name": "python",
   "nbconvert_exporter": "python",
   "pygments_lexer": "ipython3",
   "version": "3.4.0"
  }
 },
 "nbformat": 4,
 "nbformat_minor": 0
}
